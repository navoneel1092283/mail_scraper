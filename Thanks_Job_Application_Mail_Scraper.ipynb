{
 "cells": [
  {
   "cell_type": "markdown",
   "metadata": {},
   "source": [
    "# Importing necessary libraries"
   ]
  },
  {
   "cell_type": "code",
   "execution_count": 1,
   "metadata": {},
   "outputs": [],
   "source": [
    "from sklearn.feature_extraction.text import CountVectorizer # for bag-of-words feature extraction\n",
    "import email, getpass, imaplib, os # for email scraping\n",
    "import pandas as pd # for storing retrieved mail records and related information in a dataframe"
   ]
  },
  {
   "cell_type": "markdown",
   "metadata": {},
   "source": [
    "# Module for Bag-of-Words Similarity in order to filter mails with subjects containing keywords 'Thank you for applying'"
   ]
  },
  {
   "cell_type": "code",
   "execution_count": 2,
   "metadata": {},
   "outputs": [],
   "source": [
    "def bow_similarity(subject):\n",
    "    bow = CountVectorizer().fit_transform([subject.lower(), 'thank you for applying'])\n",
    "    bow_similarity = bow[0] * bow[1].T\n",
    "    return (bow_similarity.toarray()[0][0]/4)*100"
   ]
  },
  {
   "cell_type": "markdown",
   "metadata": {},
   "source": [
    "# E-mail scraping ..."
   ]
  },
  {
   "cell_type": "code",
   "execution_count": 3,
   "metadata": {},
   "outputs": [
    {
     "name": "stdout",
     "output_type": "stream",
     "text": [
      "Enter your email id --> navoworld98@gmail.com\n",
      "Enter your password --> ········\n"
     ]
    }
   ],
   "source": [
    "# entering email-id and password\n",
    "user = input(\"Enter your email id --> \")\n",
    "pwd  = getpass.getpass(\"Enter your password --> \")"
   ]
  },
  {
   "cell_type": "markdown",
   "metadata": {},
   "source": [
    "## Note: For scraping emails for gmail servers, turn on \"allow less secure app access\" from https://myaccount.google.com/lesssecureapps"
   ]
  },
  {
   "cell_type": "code",
   "execution_count": 4,
   "metadata": {},
   "outputs": [
    {
     "data": {
      "text/plain": [
       "('OK', [b'navoworld98@gmail.com authenticated (Success)'])"
      ]
     },
     "execution_count": 4,
     "metadata": {},
     "output_type": "execute_result"
    }
   ],
   "source": [
    "# connecting to the corresponding imap server of the mail. (different mail servers have different imap servers)\n",
    "m = imaplib.IMAP4_SSL(\"imap.gmail.com\") # imap server support for gmail\n",
    "m.login(user, pwd) # logging in"
   ]
  },
  {
   "cell_type": "code",
   "execution_count": 5,
   "metadata": {},
   "outputs": [
    {
     "data": {
      "text/plain": [
       "('OK', [b'42'])"
      ]
     },
     "execution_count": 5,
     "metadata": {},
     "output_type": "execute_result"
    }
   ],
   "source": [
    "# selecting the whole Inbox for scraping emails\n",
    "m.select('Inbox')"
   ]
  },
  {
   "cell_type": "code",
   "execution_count": 6,
   "metadata": {},
   "outputs": [
    {
     "name": "stdout",
     "output_type": "stream",
     "text": [
      "Email from scraped with subject-> Thank you for Applying at paypal\n",
      "1 relevant email(s) is/are found and scraped\n"
     ]
    }
   ],
   "source": [
    "resp, items = m.search(None, 'ALL') # searching mails from all senders\n",
    "items = items[0].split()\n",
    "from_mail = [] # sender information for every relevant mail is stored in this list\n",
    "date = [] # datetime info for every relevant mail is stored in this list\n",
    "body = [] # body of every relevant mail is stored in this list\n",
    "mails = {} # relevant emails with their details are stored in the dictionary, later converted to pandas dataframe\n",
    "mail_cnt = 0 # mail counter (keeping a track of the number of relevant emails scraped)\n",
    "for emailid in items[::-1]: # scraping emails from most recent to least recent\n",
    "    resp, data = m.fetch(emailid, \"(RFC822)\")\n",
    "    for response_part in data:\n",
    "        if isinstance(response_part, tuple):\n",
    "            mail = email.message_from_string(list(response_part)[1].decode(\"utf-8\"))\n",
    "            if bow_similarity(mail['subject']) == 100.0: # checking whether the scraped mail is relevant or not\n",
    "                r, d = m.fetch(emailid, \"(UID BODY[TEXT])\")\n",
    "                mail_cnt += 1 # updating the mail encounter\n",
    "                print(\"Email from scraped with subject-> \" + mail['subject']) # printing the subject of the relevant mail\n",
    "                from_mail.append(mail['from']) # storing the sender info of the relevant mail\n",
    "                date.append(mail['date']) # storing the datetime info of the relevant mail \n",
    "                body.append(email.message_from_string(d[0][1].decode(\"utf-8\"))) # storing the body of the relevant mail\n",
    "                \n",
    "mails['from'] = from_mail\n",
    "mails['datetime'] = date\n",
    "mails['body'] = [str(x) for x in body]\n",
    "mails = pd.DataFrame(mails)\n",
    "print(str(mail_cnt) + ' relevant email(s) is/are found and scraped')"
   ]
  },
  {
   "cell_type": "code",
   "execution_count": 7,
   "metadata": {},
   "outputs": [
    {
     "data": {
      "text/html": [
       "<div>\n",
       "<style scoped>\n",
       "    .dataframe tbody tr th:only-of-type {\n",
       "        vertical-align: middle;\n",
       "    }\n",
       "\n",
       "    .dataframe tbody tr th {\n",
       "        vertical-align: top;\n",
       "    }\n",
       "\n",
       "    .dataframe thead th {\n",
       "        text-align: right;\n",
       "    }\n",
       "</style>\n",
       "<table border=\"1\" class=\"dataframe\">\n",
       "  <thead>\n",
       "    <tr style=\"text-align: right;\">\n",
       "      <th></th>\n",
       "      <th>from</th>\n",
       "      <th>datetime</th>\n",
       "      <th>body</th>\n",
       "    </tr>\n",
       "  </thead>\n",
       "  <tbody>\n",
       "    <tr>\n",
       "      <th>0</th>\n",
       "      <td>Navoneel Chakrabarty &lt;nc2012@cse.jgec.ac.in&gt;</td>\n",
       "      <td>Thu, 15 Oct 2020 03:46:48 +0530</td>\n",
       "      <td>\\n--0000000000001c874b05b1a8e4dc\\nContent-Type...</td>\n",
       "    </tr>\n",
       "  </tbody>\n",
       "</table>\n",
       "</div>"
      ],
      "text/plain": [
       "                                           from  \\\n",
       "0  Navoneel Chakrabarty <nc2012@cse.jgec.ac.in>   \n",
       "\n",
       "                          datetime  \\\n",
       "0  Thu, 15 Oct 2020 03:46:48 +0530   \n",
       "\n",
       "                                                body  \n",
       "0  \\n--0000000000001c874b05b1a8e4dc\\nContent-Type...  "
      ]
     },
     "execution_count": 7,
     "metadata": {},
     "output_type": "execute_result"
    }
   ],
   "source": [
    "mails # displaying the dataframe"
   ]
  },
  {
   "cell_type": "code",
   "execution_count": 8,
   "metadata": {},
   "outputs": [
    {
     "data": {
      "text/plain": [
       "['',\n",
       " '--0000000000001c874b05b1a8e4dc',\n",
       " 'Content-Type: text/plain; charset=\"UTF-8\"',\n",
       " '',\n",
       " 'Hello Navoneel Chakrabarty -',\n",
       " '',\n",
       " 'We really appreciate the time and effort you took to connect with us and',\n",
       " 'apply for the position: Data Scientist .',\n",
       " '',\n",
       " 'We are no longer reviewing applicants for this particular position, but',\n",
       " \"that doesn't necessarily mean this is the end. There are many openings at\",\n",
       " \"PayPal and we're always looking for smart, qualified and motivated\",\n",
       " \"applicants. If you see another interesting position, please apply and we'll\",\n",
       " 'get back in touch!',\n",
       " '',\n",
       " '',\n",
       " 'Thanks,',\n",
       " 'Global Talent Acquisition',\n",
       " '',\n",
       " '--0000000000001c874b05b1a8e4dc',\n",
       " 'Content-Type: text/html; charset=\"UTF-8\"',\n",
       " 'Content-Transfer-Encoding: quoted-printable',\n",
       " '',\n",
       " '<div dir=3D\"ltr\"><div style=3D\"font-size:13px;color:rgb(29,34,40);font-fami=',\n",
       " 'ly:&quot;Helvetica Neue&quot;,Helvetica,Arial,sans-serif\">Hello Navoneel Ch=',\n",
       " 'akrabarty -<br><br>We really appreciate the time and effort you took to con=',\n",
       " 'nect with us and apply for the position: Data Scientist .<br><br>We are no =',\n",
       " 'longer reviewing applicants for this particular position, but that doesn&#3=',\n",
       " '9;t necessarily mean this is the end. There are many openings at PayPal and=',\n",
       " ' we&#39;re always looking for smart, qualified and motivated applicants. If=',\n",
       " ' you see another interesting position, please apply and we&#39;ll get back =',\n",
       " 'in touch!</div><div style=3D\"font-size:13px;color:rgb(29,34,40);font-family=',\n",
       " ':&quot;Helvetica Neue&quot;,Helvetica,Arial,sans-serif\"><br></div><div styl=',\n",
       " 'e=3D\"font-size:13px;color:rgb(29,34,40);font-family:&quot;Helvetica Neue&qu=',\n",
       " 'ot;,Helvetica,Arial,sans-serif\"><br></div><div style=3D\"font-size:13px;colo=',\n",
       " 'r:rgb(29,34,40);font-family:&quot;Helvetica Neue&quot;,Helvetica,Arial,sans=',\n",
       " '-serif\">Thanks,<br>Global Talent Acquisition</div></div>',\n",
       " '',\n",
       " '--0000000000001c874b05b1a8e4dc--',\n",
       " '']"
      ]
     },
     "execution_count": 8,
     "metadata": {},
     "output_type": "execute_result"
    }
   ],
   "source": [
    "str(mails['body'][0]).split('\\n') # displaying the body of the mail"
   ]
  }
 ],
 "metadata": {
  "kernelspec": {
   "display_name": "Python 3",
   "language": "python",
   "name": "python3"
  },
  "language_info": {
   "codemirror_mode": {
    "name": "ipython",
    "version": 3
   },
   "file_extension": ".py",
   "mimetype": "text/x-python",
   "name": "python",
   "nbconvert_exporter": "python",
   "pygments_lexer": "ipython3",
   "version": "3.7.3"
  }
 },
 "nbformat": 4,
 "nbformat_minor": 2
}
